{
 "nbformat": 4,
 "nbformat_minor": 2,
 "metadata": {
  "language_info": {
   "name": "python",
   "codemirror_mode": {
    "name": "ipython",
    "version": 3
   }
  },
  "orig_nbformat": 2,
  "file_extension": ".py",
  "mimetype": "text/x-python",
  "name": "python",
  "npconvert_exporter": "python",
  "pygments_lexer": "ipython3",
  "version": 3
 },
 "cells": [
  {
   "cell_type": "code",
   "execution_count": 1,
   "metadata": {},
   "outputs": [],
   "source": [
    "from classes.reddit_scrapper import RedditScrapper\n",
    "import pandas as pd"
   ]
  },
  {
   "cell_type": "code",
   "execution_count": 2,
   "metadata": {},
   "outputs": [],
   "source": [
    "rs = RedditScrapper()\n",
    "rs.set_current_subreddit('dankmemes')"
   ]
  },
  {
   "cell_type": "code",
   "execution_count": 3,
   "metadata": {},
   "outputs": [
    {
     "name": "stderr",
     "output_type": "stream",
     "text": "100%|██████████| 13/13 [00:07<00:00,  1.72it/s]\n\n13 data points have been gathered in runtime so far.\n\n"
    }
   ],
   "source": [
    "score_df = rs.get_latest_scores()"
   ]
  },
  {
   "cell_type": "code",
   "execution_count": 4,
   "metadata": {},
   "outputs": [
    {
     "data": {
      "text/html": "<div>\n<style scoped>\n    .dataframe tbody tr th:only-of-type {\n        vertical-align: middle;\n    }\n\n    .dataframe tbody tr th {\n        vertical-align: top;\n    }\n\n    .dataframe thead th {\n        text-align: right;\n    }\n</style>\n<table border=\"1\" class=\"dataframe\">\n  <thead>\n    <tr style=\"text-align: right;\">\n      <th></th>\n      <th>final_score</th>\n      <th>raw_score</th>\n      <th>author</th>\n      <th>num_memes_in_bottom</th>\n      <th>num_memes_in_top</th>\n      <th>spammer_index</th>\n      <th>highest_upvotes</th>\n      <th>highest_upvotes_score</th>\n      <th>lowest_ratio</th>\n      <th>timstamp</th>\n    </tr>\n  </thead>\n  <tbody>\n    <tr>\n      <td>0</td>\n      <td>91.457023</td>\n      <td>7.232888</td>\n      <td>JKdoe</td>\n      <td>0</td>\n      <td>4</td>\n      <td>0.000000</td>\n      <td>64747</td>\n      <td>1.944325</td>\n      <td>0.93</td>\n      <td>1573406682</td>\n    </tr>\n    <tr>\n      <td>1</td>\n      <td>88.618051</td>\n      <td>6.316350</td>\n      <td>2Pac_if</td>\n      <td>2</td>\n      <td>10</td>\n      <td>0.200000</td>\n      <td>125679</td>\n      <td>2.398614</td>\n      <td>0.79</td>\n      <td>1573406682</td>\n    </tr>\n    <tr>\n      <td>2</td>\n      <td>80.071772</td>\n      <td>4.200692</td>\n      <td>orqh</td>\n      <td>1</td>\n      <td>5</td>\n      <td>0.200000</td>\n      <td>56860</td>\n      <td>1.866974</td>\n      <td>0.90</td>\n      <td>1573406682</td>\n    </tr>\n    <tr>\n      <td>3</td>\n      <td>78.680209</td>\n      <td>3.930763</td>\n      <td>kayneshaw</td>\n      <td>3</td>\n      <td>9</td>\n      <td>0.333333</td>\n      <td>109809</td>\n      <td>2.298692</td>\n      <td>0.76</td>\n      <td>1573406682</td>\n    </tr>\n    <tr>\n      <td>4</td>\n      <td>77.751187</td>\n      <td>3.760281</td>\n      <td>RtfMc</td>\n      <td>4</td>\n      <td>11</td>\n      <td>0.363636</td>\n      <td>60065</td>\n      <td>1.899132</td>\n      <td>0.90</td>\n      <td>1573406682</td>\n    </tr>\n    <tr>\n      <td>5</td>\n      <td>74.771503</td>\n      <td>3.261806</td>\n      <td>poppy38</td>\n      <td>0</td>\n      <td>2</td>\n      <td>0.000000</td>\n      <td>44735</td>\n      <td>1.735003</td>\n      <td>0.94</td>\n      <td>1573406682</td>\n    </tr>\n    <tr>\n      <td>6</td>\n      <td>73.210593</td>\n      <td>3.027638</td>\n      <td>Drarckfort</td>\n      <td>0</td>\n      <td>2</td>\n      <td>0.000000</td>\n      <td>35995</td>\n      <td>1.627762</td>\n      <td>0.93</td>\n      <td>1573406682</td>\n    </tr>\n    <tr>\n      <td>7</td>\n      <td>73.072066</td>\n      <td>3.007686</td>\n      <td>ARAKSH</td>\n      <td>2</td>\n      <td>6</td>\n      <td>0.333333</td>\n      <td>30244</td>\n      <td>1.550354</td>\n      <td>0.97</td>\n      <td>1573406682</td>\n    </tr>\n    <tr>\n      <td>8</td>\n      <td>73.026168</td>\n      <td>3.001105</td>\n      <td>DearLeader42</td>\n      <td>0</td>\n      <td>2</td>\n      <td>0.000000</td>\n      <td>30002</td>\n      <td>1.546961</td>\n      <td>0.97</td>\n      <td>1573406682</td>\n    </tr>\n    <tr>\n      <td>9</td>\n      <td>71.902230</td>\n      <td>2.844359</td>\n      <td>staticdanger</td>\n      <td>1</td>\n      <td>3</td>\n      <td>0.333333</td>\n      <td>65872</td>\n      <td>1.954886</td>\n      <td>0.97</td>\n      <td>1573406682</td>\n    </tr>\n    <tr>\n      <td>10</td>\n      <td>71.645078</td>\n      <td>2.809663</td>\n      <td>Sriram1223456789</td>\n      <td>3</td>\n      <td>7</td>\n      <td>0.428571</td>\n      <td>43996</td>\n      <td>1.726367</td>\n      <td>0.93</td>\n      <td>1573406682</td>\n    </tr>\n    <tr>\n      <td>11</td>\n      <td>71.403146</td>\n      <td>2.777407</td>\n      <td>mftnhsdiq</td>\n      <td>2</td>\n      <td>5</td>\n      <td>0.400000</td>\n      <td>51554</td>\n      <td>1.811352</td>\n      <td>0.92</td>\n      <td>1573406682</td>\n    </tr>\n    <tr>\n      <td>12</td>\n      <td>71.132621</td>\n      <td>2.741777</td>\n      <td>bigdaddybirdman</td>\n      <td>1</td>\n      <td>3</td>\n      <td>0.333333</td>\n      <td>64768</td>\n      <td>1.944523</td>\n      <td>0.94</td>\n      <td>1573406682</td>\n    </tr>\n    <tr>\n      <td>13</td>\n      <td>70.401980</td>\n      <td>2.647815</td>\n      <td>Etho11098</td>\n      <td>0</td>\n      <td>2</td>\n      <td>0.000000</td>\n      <td>23735</td>\n      <td>1.454843</td>\n      <td>0.91</td>\n      <td>1573406682</td>\n    </tr>\n    <tr>\n      <td>14</td>\n      <td>69.553804</td>\n      <td>2.542768</td>\n      <td>DaDomis</td>\n      <td>0</td>\n      <td>2</td>\n      <td>0.000000</td>\n      <td>18278</td>\n      <td>1.367080</td>\n      <td>0.93</td>\n      <td>1573406682</td>\n    </tr>\n    <tr>\n      <td>15</td>\n      <td>66.631455</td>\n      <td>2.211735</td>\n      <td>OneCharmingMan</td>\n      <td>0</td>\n      <td>1</td>\n      <td>0.000000</td>\n      <td>118223</td>\n      <td>2.352909</td>\n      <td>0.94</td>\n      <td>1573406682</td>\n    </tr>\n    <tr>\n      <td>16</td>\n      <td>66.349444</td>\n      <td>2.182165</td>\n      <td>City-Blue-42</td>\n      <td>0</td>\n      <td>1</td>\n      <td>0.000000</td>\n      <td>102582</td>\n      <td>2.249654</td>\n      <td>0.97</td>\n      <td>1573406682</td>\n    </tr>\n    <tr>\n      <td>17</td>\n      <td>66.233111</td>\n      <td>2.170082</td>\n      <td>SnB_790</td>\n      <td>0</td>\n      <td>1</td>\n      <td>0.000000</td>\n      <td>100802</td>\n      <td>2.237198</td>\n      <td>0.97</td>\n      <td>1573406682</td>\n    </tr>\n    <tr>\n      <td>18</td>\n      <td>65.826052</td>\n      <td>2.128329</td>\n      <td>George2110</td>\n      <td>5</td>\n      <td>7</td>\n      <td>0.714286</td>\n      <td>71342</td>\n      <td>2.004706</td>\n      <td>0.91</td>\n      <td>1573406682</td>\n    </tr>\n    <tr>\n      <td>19</td>\n      <td>65.785846</td>\n      <td>2.124249</td>\n      <td>Ferrrchito</td>\n      <td>0</td>\n      <td>1</td>\n      <td>0.000000</td>\n      <td>104054</td>\n      <td>2.259839</td>\n      <td>0.94</td>\n      <td>1573406682</td>\n    </tr>\n  </tbody>\n</table>\n</div>",
      "text/plain": "    final_score  raw_score            author  num_memes_in_bottom  \\\n0     91.457023   7.232888             JKdoe                    0   \n1     88.618051   6.316350           2Pac_if                    2   \n2     80.071772   4.200692              orqh                    1   \n3     78.680209   3.930763         kayneshaw                    3   \n4     77.751187   3.760281             RtfMc                    4   \n5     74.771503   3.261806           poppy38                    0   \n6     73.210593   3.027638        Drarckfort                    0   \n7     73.072066   3.007686            ARAKSH                    2   \n8     73.026168   3.001105      DearLeader42                    0   \n9     71.902230   2.844359      staticdanger                    1   \n10    71.645078   2.809663  Sriram1223456789                    3   \n11    71.403146   2.777407         mftnhsdiq                    2   \n12    71.132621   2.741777   bigdaddybirdman                    1   \n13    70.401980   2.647815         Etho11098                    0   \n14    69.553804   2.542768           DaDomis                    0   \n15    66.631455   2.211735    OneCharmingMan                    0   \n16    66.349444   2.182165      City-Blue-42                    0   \n17    66.233111   2.170082           SnB_790                    0   \n18    65.826052   2.128329        George2110                    5   \n19    65.785846   2.124249        Ferrrchito                    0   \n\n    num_memes_in_top  spammer_index  highest_upvotes  highest_upvotes_score  \\\n0                  4       0.000000            64747               1.944325   \n1                 10       0.200000           125679               2.398614   \n2                  5       0.200000            56860               1.866974   \n3                  9       0.333333           109809               2.298692   \n4                 11       0.363636            60065               1.899132   \n5                  2       0.000000            44735               1.735003   \n6                  2       0.000000            35995               1.627762   \n7                  6       0.333333            30244               1.550354   \n8                  2       0.000000            30002               1.546961   \n9                  3       0.333333            65872               1.954886   \n10                 7       0.428571            43996               1.726367   \n11                 5       0.400000            51554               1.811352   \n12                 3       0.333333            64768               1.944523   \n13                 2       0.000000            23735               1.454843   \n14                 2       0.000000            18278               1.367080   \n15                 1       0.000000           118223               2.352909   \n16                 1       0.000000           102582               2.249654   \n17                 1       0.000000           100802               2.237198   \n18                 7       0.714286            71342               2.004706   \n19                 1       0.000000           104054               2.259839   \n\n    lowest_ratio    timstamp  \n0           0.93  1573406682  \n1           0.79  1573406682  \n2           0.90  1573406682  \n3           0.76  1573406682  \n4           0.90  1573406682  \n5           0.94  1573406682  \n6           0.93  1573406682  \n7           0.97  1573406682  \n8           0.97  1573406682  \n9           0.97  1573406682  \n10          0.93  1573406682  \n11          0.92  1573406682  \n12          0.94  1573406682  \n13          0.91  1573406682  \n14          0.93  1573406682  \n15          0.94  1573406682  \n16          0.97  1573406682  \n17          0.97  1573406682  \n18          0.91  1573406682  \n19          0.94  1573406682  "
     },
     "execution_count": 4,
     "metadata": {},
     "output_type": "execute_result"
    }
   ],
   "source": [
    "score_df.head(20)"
   ]
  },
  {
   "cell_type": "code",
   "execution_count": null,
   "metadata": {},
   "outputs": [],
   "source": []
  }
 ]
}