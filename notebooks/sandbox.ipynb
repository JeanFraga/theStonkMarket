{
 "nbformat": 4,
 "nbformat_minor": 2,
 "metadata": {
  "language_info": {
   "name": "python",
   "codemirror_mode": {
    "name": "ipython",
    "version": 3
   }
  },
  "orig_nbformat": 2,
  "file_extension": ".py",
  "mimetype": "text/x-python",
  "name": "python",
  "npconvert_exporter": "python",
  "pygments_lexer": "ipython3",
  "version": 3
 },
 "cells": [
  {
   "cell_type": "code",
   "execution_count": 6,
   "metadata": {},
   "outputs": [],
   "source": [
    "from praw import Reddit\n",
    "from functions.constants import NUM_WORKERS\n",
    "from json import loads\n",
    "from os import environ"
   ]
  },
  {
   "cell_type": "code",
   "execution_count": 8,
   "metadata": {},
   "outputs": [
    {
     "name": "stdout",
     "output_type": "stream",
     "text": "worked?\nworked?\nworked?\nworked?\nworked?\nworked?\nworked?\nworked?\n"
    }
   ],
   "source": [
    "for worker in range(NUM_WORKERS):\n",
    "    try:\n",
    "        env_var_key = 'reddit_oauth_'+str(worker)\n",
    "        reddit_oauth = loads(environ[env_var_key])\n",
    "        reddit = Reddit(client_id=reddit_oauth['CLIENT_ID'],\n",
    "                            client_secret=reddit_oauth['CLIENT_SECRET'],\n",
    "                            password=reddit_oauth['PASSWORD'],\n",
    "                            user_agent=reddit_oauth['USERAGENT'],\n",
    "                            username=reddit_oauth['USERNAME'])\n",
    "        submission = reddit.submission(id='delggn')\n",
    "        print('worked?')\n",
    "    except exception as e:\n",
    "        print(str(worker)+': ', e) "
   ]
  },
  {
   "cell_type": "code",
   "execution_count": 3,
   "metadata": {},
   "outputs": [
    {
     "name": "stderr",
     "output_type": "stream",
     "text": "0%|          | 0/7953 [00:00<?, ?it/s]"
    }
   ],
   "source": []
  },
  {
   "cell_type": "code",
   "execution_count": null,
   "metadata": {},
   "outputs": [],
   "source": []
  }
 ]
}